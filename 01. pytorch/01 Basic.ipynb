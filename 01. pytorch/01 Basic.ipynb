{
 "cells": [
  {
   "cell_type": "markdown",
   "metadata": {},
   "source": [
    "## 1. Quickstart"
   ]
  },
  {
   "cell_type": "markdown",
   "metadata": {},
   "source": [
    "### Dataset"
   ]
  },
  {
   "cell_type": "code",
   "execution_count": 27,
   "metadata": {},
   "outputs": [],
   "source": [
    "# Download both the training and testing FashionMNIST dataset from torchvision\n",
    "\n",
    "from torchvision import datasets\n",
    "from torchvision.transforms import ToTensor\n",
    "\n",
    "training_set = datasets.FashionMNIST(\n",
    "    root='data',\n",
    "    train=True,\n",
    "    download=True,\n",
    "    transform=ToTensor()\n",
    ")\n",
    "testing_set = datasets.FashionMNIST(\n",
    "    root='data',\n",
    "    train=False,\n",
    "    download=True,\n",
    "    transform=ToTensor()\n",
    ")"
   ]
  },
  {
   "cell_type": "code",
   "execution_count": 28,
   "metadata": {},
   "outputs": [],
   "source": [
    "# Pass Dataset as an argument to Dataloader and iterate over the dataset\n",
    "# Set batch_size as 64\n",
    "\n",
    "from torch.utils.data import DataLoader\n",
    "batch_size = 64\n",
    "\n",
    "train_dataloader = DataLoader(training_set, batch_size=batch_size)\n",
    "test_dataloader = DataLoader(testing_set, batch_size=batch_size)"
   ]
  },
  {
   "cell_type": "markdown",
   "metadata": {},
   "source": [
    "### Creating the Model"
   ]
  },
  {
   "cell_type": "code",
   "execution_count": 29,
   "metadata": {},
   "outputs": [
    {
     "name": "stdout",
     "output_type": "stream",
     "text": [
      "Using cpu device\n"
     ]
    }
   ],
   "source": [
    "import torch\n",
    "\n",
    "# check available device\n",
    "device = torch.device(\"cuda\" if torch.cuda.is_available() else \"cpu\")\n",
    "print(f\"Using {device} device\")"
   ]
  },
  {
   "cell_type": "code",
   "execution_count": 30,
   "metadata": {},
   "outputs": [],
   "source": [
    "# define NeuralNetwork: linear(512) -> relu -> linear(512) -> relu -> linear(10)\n",
    "from torch import nn\n",
    "\n",
    "class NeuralNetwork(nn.Module):\n",
    "    def __init__(self):\n",
    "        super().__init__()\n",
    "        self.flatten = nn.Flatten()\n",
    "        self.linear_relu_stack = nn.Sequential(\n",
    "            nn.Linear(28*28, 512),\n",
    "            nn.ReLU(),\n",
    "            nn.Linear(512, 512),\n",
    "            nn.ReLU(),\n",
    "            nn.Linear(512, 10)\n",
    "        )\n",
    "    \n",
    "    def forward(self, x):\n",
    "        x = self.flatten(x)\n",
    "        logits = self.linear_relu_stack(x)\n",
    "        return logits"
   ]
  },
  {
   "cell_type": "code",
   "execution_count": 31,
   "metadata": {},
   "outputs": [],
   "source": [
    "# Initialize a model\n",
    "model = NeuralNetwork().to(device)"
   ]
  },
  {
   "cell_type": "code",
   "execution_count": 32,
   "metadata": {},
   "outputs": [],
   "source": [
    "# Optimizing the parameters\n",
    "\n",
    "# loss_fn: crossentropy\n",
    "# optimizer: sgd\n",
    "loss_fn = nn.CrossEntropyLoss()\n",
    "optimizer = torch.optim.SGD(model.parameters(), lr=1e-3)"
   ]
  },
  {
   "cell_type": "code",
   "execution_count": 33,
   "metadata": {},
   "outputs": [],
   "source": [
    "# train_fn\n",
    "def train(dataloader, model, loss_fn, optimizer):\n",
    "    size = len(dataloader.dataset)\n",
    "    model.train()\n",
    "    \n",
    "    for batch, (X, y) in enumerate(dataloader):\n",
    "        X,y = X.to(device), y.to(device)\n",
    "        \n",
    "        pred = model(X)\n",
    "        loss = loss_fn(pred, y)\n",
    "        \n",
    "        loss.backward()\n",
    "        optimizer.step()\n",
    "        optimizer.zero_grad()\n",
    "        \n",
    "        if batch%100 == 0:\n",
    "            print(f\"Round: {(batch+1) * len(X)}/{size}  Loss: {loss.item():5f}\")"
   ]
  },
  {
   "cell_type": "code",
   "execution_count": 34,
   "metadata": {},
   "outputs": [],
   "source": [
    "# test_fn\n",
    "def test(dataloader, model, loss_fn):\n",
    "    batch_num = len(dataloader)\n",
    "    size = len(dataloader.dataset)\n",
    "    model.eval()\n",
    "    \n",
    "    loss, correct = 0, 0\n",
    "    with torch.no_grad():\n",
    "        for batch, (X, y) in enumerate(dataloader):\n",
    "            X,y = X.to(device), y.to(device)\n",
    "            \n",
    "            pred = model(X)\n",
    "            loss += loss_fn(pred, y)\n",
    "            correct += (pred.argmax(1)==y).type(torch.float64).sum().item()\n",
    "    \n",
    "    print(f\"Avg Loss: {loss/batch_num}, Correct Rate: {correct/size}\")"
   ]
  },
  {
   "cell_type": "code",
   "execution_count": 35,
   "metadata": {},
   "outputs": [
    {
     "name": "stdout",
     "output_type": "stream",
     "text": [
      "Epoch 0\n",
      "\n",
      "Round: 64/60000  Loss: 2.287028\n",
      "Round: 6464/60000  Loss: 2.283128\n",
      "Round: 12864/60000  Loss: 2.264858\n",
      "Round: 19264/60000  Loss: 2.269808\n",
      "Round: 25664/60000  Loss: 2.252944\n",
      "Round: 32064/60000  Loss: 2.215040\n",
      "Round: 38464/60000  Loss: 2.236125\n",
      "Round: 44864/60000  Loss: 2.194273\n",
      "Round: 51264/60000  Loss: 2.191097\n",
      "Round: 57664/60000  Loss: 2.175271\n",
      "Avg Loss: 2.160900115966797, Correct Rate: 0.299\n",
      "------------------------------\n",
      "Epoch 1\n",
      "\n",
      "Round: 64/60000  Loss: 2.155209\n",
      "Round: 6464/60000  Loss: 2.164204\n",
      "Round: 12864/60000  Loss: 2.106785\n",
      "Round: 19264/60000  Loss: 2.131963\n",
      "Round: 25664/60000  Loss: 2.099849\n",
      "Round: 32064/60000  Loss: 2.021408\n",
      "Round: 38464/60000  Loss: 2.063553\n",
      "Round: 44864/60000  Loss: 1.981072\n",
      "Round: 51264/60000  Loss: 1.982052\n",
      "Round: 57664/60000  Loss: 1.934895\n",
      "Avg Loss: 1.9249920845031738, Correct Rate: 0.5858\n",
      "------------------------------\n",
      "Epoch 2\n",
      "\n",
      "Round: 64/60000  Loss: 1.937815\n",
      "Round: 6464/60000  Loss: 1.934401\n",
      "Round: 12864/60000  Loss: 1.818734\n",
      "Round: 19264/60000  Loss: 1.858761\n",
      "Round: 25664/60000  Loss: 1.779274\n",
      "Round: 32064/60000  Loss: 1.702246\n",
      "Round: 38464/60000  Loss: 1.730525\n",
      "Round: 44864/60000  Loss: 1.623826\n",
      "Round: 51264/60000  Loss: 1.642392\n",
      "Round: 57664/60000  Loss: 1.552640\n",
      "Avg Loss: 1.562638521194458, Correct Rate: 0.6087\n",
      "------------------------------\n",
      "Epoch 3\n",
      "\n",
      "Round: 64/60000  Loss: 1.611292\n",
      "Round: 6464/60000  Loss: 1.595638\n",
      "Round: 12864/60000  Loss: 1.437539\n",
      "Round: 19264/60000  Loss: 1.508085\n",
      "Round: 25664/60000  Loss: 1.408406\n",
      "Round: 32064/60000  Loss: 1.375593\n",
      "Round: 38464/60000  Loss: 1.399958\n",
      "Round: 44864/60000  Loss: 1.313398\n",
      "Round: 51264/60000  Loss: 1.352154\n",
      "Round: 57664/60000  Loss: 1.261529\n",
      "Avg Loss: 1.2810853719711304, Correct Rate: 0.6282\n",
      "------------------------------\n",
      "Epoch 4\n",
      "\n",
      "Round: 64/60000  Loss: 1.343850\n",
      "Round: 6464/60000  Loss: 1.340613\n",
      "Round: 12864/60000  Loss: 1.166250\n",
      "Round: 19264/60000  Loss: 1.271567\n",
      "Round: 25664/60000  Loss: 1.162743\n",
      "Round: 32064/60000  Loss: 1.164693\n",
      "Round: 38464/60000  Loss: 1.196246\n",
      "Round: 44864/60000  Loss: 1.123393\n",
      "Round: 51264/60000  Loss: 1.166658\n",
      "Round: 57664/60000  Loss: 1.092983\n",
      "Avg Loss: 1.1061104536056519, Correct Rate: 0.6452\n",
      "------------------------------\n"
     ]
    }
   ],
   "source": [
    "# start training\n",
    "epochs = 5\n",
    "for t in range(epochs):\n",
    "    print(f\"Epoch {t}\\n\")\n",
    "    train(train_dataloader, model, loss_fn, optimizer)\n",
    "    test(test_dataloader, model, loss_fn)\n",
    "    print(\"-\"*30)"
   ]
  },
  {
   "cell_type": "markdown",
   "metadata": {},
   "source": [
    "### Save & Load Model"
   ]
  },
  {
   "cell_type": "code",
   "execution_count": 38,
   "metadata": {},
   "outputs": [],
   "source": [
    "# save the model\n",
    "torch.save(model.state_dict(), \"model/basic.pth\")"
   ]
  },
  {
   "cell_type": "code",
   "execution_count": 40,
   "metadata": {},
   "outputs": [
    {
     "name": "stderr",
     "output_type": "stream",
     "text": [
      "/var/folders/sm/spjvjp6d3y11l0_p48nnv5gh0000gn/T/ipykernel_86910/4239901165.py:3: FutureWarning: You are using `torch.load` with `weights_only=False` (the current default value), which uses the default pickle module implicitly. It is possible to construct malicious pickle data which will execute arbitrary code during unpickling (See https://github.com/pytorch/pytorch/blob/main/SECURITY.md#untrusted-models for more details). In a future release, the default value for `weights_only` will be flipped to `True`. This limits the functions that could be executed during unpickling. Arbitrary objects will no longer be allowed to be loaded via this mode unless they are explicitly allowlisted by the user via `torch.serialization.add_safe_globals`. We recommend you start setting `weights_only=True` for any use case where you don't have full control of the loaded file. Please open an issue on GitHub for any issues related to this experimental feature.\n",
      "  model.load_state_dict(torch.load(\"model/basic.pth\"))\n"
     ]
    },
    {
     "data": {
      "text/plain": [
       "<All keys matched successfully>"
      ]
     },
     "execution_count": 40,
     "metadata": {},
     "output_type": "execute_result"
    }
   ],
   "source": [
    "# load the model\n",
    "model = NeuralNetwork().to(device)\n",
    "model.load_state_dict(torch.load(\"model/basic.pth\"))"
   ]
  }
 ],
 "metadata": {
  "kernelspec": {
   "display_name": "llmfs",
   "language": "python",
   "name": "python3"
  },
  "language_info": {
   "codemirror_mode": {
    "name": "ipython",
    "version": 3
   },
   "file_extension": ".py",
   "mimetype": "text/x-python",
   "name": "python",
   "nbconvert_exporter": "python",
   "pygments_lexer": "ipython3",
   "version": "3.11.13"
  }
 },
 "nbformat": 4,
 "nbformat_minor": 2
}
