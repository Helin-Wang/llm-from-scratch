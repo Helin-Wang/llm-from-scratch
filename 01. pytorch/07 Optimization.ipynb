{
 "cells": [
  {
   "cell_type": "markdown",
   "metadata": {},
   "source": [
    "## 07 Optimization"
   ]
  },
  {
   "cell_type": "code",
   "execution_count": 1,
   "metadata": {},
   "outputs": [],
   "source": [
    "import torch\n",
    "from torch import nn\n",
    "from torch.utils.data import DataLoader\n",
    "from torchvision import datasets\n",
    "from torchvision.transforms import ToTensor\n",
    "\n",
    "training_data = datasets.FashionMNIST(\n",
    "    root=\"data\",\n",
    "    train=True,\n",
    "    download=True,\n",
    "    transform=ToTensor()\n",
    ")\n",
    "\n",
    "test_data = datasets.FashionMNIST(\n",
    "    root=\"data\",\n",
    "    train=False,\n",
    "    download=True,\n",
    "    transform=ToTensor()\n",
    ")\n",
    "\n",
    "train_dataloader = DataLoader(training_data, batch_size=64)\n",
    "test_dataloader = DataLoader(test_data, batch_size=64)\n",
    "\n",
    "class NeuralNetwork(nn.Module):\n",
    "    def __init__(self):\n",
    "        super().__init__()\n",
    "        self.flatten = nn.Flatten()\n",
    "        self.linear_relu_stack = nn.Sequential(\n",
    "            nn.Linear(28*28, 512),\n",
    "            nn.ReLU(),\n",
    "            nn.Linear(512, 512),\n",
    "            nn.ReLU(),\n",
    "            nn.Linear(512, 10),\n",
    "        )\n",
    "\n",
    "    def forward(self, x):\n",
    "        x = self.flatten(x)\n",
    "        logits = self.linear_relu_stack(x)\n",
    "        return logits\n",
    "\n",
    "model = NeuralNetwork()"
   ]
  },
  {
   "cell_type": "markdown",
   "metadata": {},
   "source": [
    "### Hyperparameters"
   ]
  },
  {
   "cell_type": "code",
   "execution_count": 2,
   "metadata": {},
   "outputs": [],
   "source": [
    "learning_rate = 1e-3\n",
    "batch_size = 64\n",
    "epochs = 5"
   ]
  },
  {
   "cell_type": "markdown",
   "metadata": {},
   "source": [
    "### Loss Function"
   ]
  },
  {
   "cell_type": "code",
   "execution_count": 3,
   "metadata": {},
   "outputs": [],
   "source": [
    "loss_fn = nn.CrossEntropyLoss()"
   ]
  },
  {
   "cell_type": "markdown",
   "metadata": {},
   "source": [
    "### Learning Rate"
   ]
  },
  {
   "cell_type": "code",
   "execution_count": 5,
   "metadata": {},
   "outputs": [],
   "source": [
    "optimizer = torch.optim.SGD(model.parameters(), lr=learning_rate)"
   ]
  },
  {
   "cell_type": "markdown",
   "metadata": {},
   "source": [
    "### Train"
   ]
  },
  {
   "cell_type": "code",
   "execution_count": 7,
   "metadata": {},
   "outputs": [],
   "source": [
    "def train_loop(dataloader, model, loss_fn, optimizer):\n",
    "    size = len(dataloader.dataset)\n",
    "    model.train()\n",
    "    \n",
    "    for batch, (X, y) in enumerate(dataloader):\n",
    "        pred = model(X)\n",
    "        loss = loss_fn(pred, y)\n",
    "        loss.backward()\n",
    "        optimizer.step()\n",
    "        optimizer.zero_grad()\n",
    "        \n",
    "        if batch % 100 == 0:\n",
    "            print(f\"loss: {loss:>7f}  [{(batch+1)*len(X)}/{size}]\")"
   ]
  },
  {
   "cell_type": "code",
   "execution_count": 8,
   "metadata": {},
   "outputs": [],
   "source": [
    "def test_loop(dataloader, model, loss_fn):\n",
    "    size = len(dataloader.dataset)\n",
    "    num_batches = len(dataloader)\n",
    "    model.eval()\n",
    "    \n",
    "    test_loss, correct = 0, 0\n",
    "    with torch.no_grad():\n",
    "        for batch, (X, y) in enumerate(dataloader):\n",
    "            pred = model(X)\n",
    "            test_loss += loss_fn(pred, y)\n",
    "            correct += (pred.argmax(1) == y).type(torch.float).sum().item()\n",
    "        \n",
    "    test_loss /= num_batches\n",
    "    correct /= size\n",
    "    print(f\"Test Error: \\n Accuracy: {(100*correct):>0.1f}%, Avg loss: {test_loss:>8f} \\n\")"
   ]
  },
  {
   "cell_type": "code",
   "execution_count": 9,
   "metadata": {},
   "outputs": [
    {
     "name": "stdout",
     "output_type": "stream",
     "text": [
      "Epoch 1\n",
      "-------------------------------\n",
      "loss: 2.307507  [64/60000]\n",
      "loss: 2.294358  [6464/60000]\n",
      "loss: 2.278862  [12864/60000]\n",
      "loss: 2.268537  [19264/60000]\n",
      "loss: 2.261932  [25664/60000]\n",
      "loss: 2.238371  [32064/60000]\n",
      "loss: 2.238500  [38464/60000]\n",
      "loss: 2.214792  [44864/60000]\n",
      "loss: 2.205155  [51264/60000]\n",
      "loss: 2.184696  [57664/60000]\n",
      "Test Error: \n",
      " Accuracy: 46.4%, Avg loss: 2.175767 \n",
      "\n",
      "Epoch 2\n",
      "-------------------------------\n",
      "loss: 2.185969  [64/60000]\n",
      "loss: 2.174236  [6464/60000]\n",
      "loss: 2.127946  [12864/60000]\n",
      "loss: 2.135188  [19264/60000]\n",
      "loss: 2.094118  [25664/60000]\n",
      "loss: 2.046141  [32064/60000]\n",
      "loss: 2.062398  [38464/60000]\n",
      "loss: 1.999095  [44864/60000]\n",
      "loss: 1.999969  [51264/60000]\n",
      "loss: 1.933496  [57664/60000]\n",
      "Test Error: \n",
      " Accuracy: 55.2%, Avg loss: 1.932105 \n",
      "\n",
      "Epoch 3\n",
      "-------------------------------\n",
      "loss: 1.963081  [64/60000]\n",
      "loss: 1.932585  [6464/60000]\n",
      "loss: 1.832553  [12864/60000]\n",
      "loss: 1.859150  [19264/60000]\n",
      "loss: 1.752367  [25664/60000]\n",
      "loss: 1.710954  [32064/60000]\n",
      "loss: 1.714126  [38464/60000]\n",
      "loss: 1.625723  [44864/60000]\n",
      "loss: 1.643667  [51264/60000]\n",
      "loss: 1.536987  [57664/60000]\n",
      "Test Error: \n",
      " Accuracy: 59.8%, Avg loss: 1.558097 \n",
      "\n",
      "Epoch 4\n",
      "-------------------------------\n",
      "loss: 1.624254  [64/60000]\n",
      "loss: 1.583841  [6464/60000]\n",
      "loss: 1.447651  [12864/60000]\n",
      "loss: 1.502410  [19264/60000]\n",
      "loss: 1.382677  [25664/60000]\n",
      "loss: 1.386573  [32064/60000]\n",
      "loss: 1.378599  [38464/60000]\n",
      "loss: 1.310068  [44864/60000]\n",
      "loss: 1.339060  [51264/60000]\n",
      "loss: 1.241292  [57664/60000]\n",
      "Test Error: \n",
      " Accuracy: 63.0%, Avg loss: 1.269807 \n",
      "\n",
      "Epoch 5\n",
      "-------------------------------\n",
      "loss: 1.353020  [64/60000]\n",
      "loss: 1.325594  [6464/60000]\n",
      "loss: 1.170305  [12864/60000]\n",
      "loss: 1.261191  [19264/60000]\n",
      "loss: 1.141099  [25664/60000]\n",
      "loss: 1.174793  [32064/60000]\n",
      "loss: 1.176468  [38464/60000]\n",
      "loss: 1.116252  [44864/60000]\n",
      "loss: 1.151836  [51264/60000]\n",
      "loss: 1.073995  [57664/60000]\n",
      "Test Error: \n",
      " Accuracy: 64.6%, Avg loss: 1.095037 \n",
      "\n",
      "Done!\n"
     ]
    }
   ],
   "source": [
    "for t in range(epochs):\n",
    "    print(f\"Epoch {t+1}\\n-------------------------------\")\n",
    "    train_loop(train_dataloader, model, loss_fn, optimizer)\n",
    "    test_loop(test_dataloader, model, loss_fn)\n",
    "print(\"Done!\")"
   ]
  }
 ],
 "metadata": {
  "kernelspec": {
   "display_name": "llmfs",
   "language": "python",
   "name": "python3"
  },
  "language_info": {
   "codemirror_mode": {
    "name": "ipython",
    "version": 3
   },
   "file_extension": ".py",
   "mimetype": "text/x-python",
   "name": "python",
   "nbconvert_exporter": "python",
   "pygments_lexer": "ipython3",
   "version": "3.11.13"
  }
 },
 "nbformat": 4,
 "nbformat_minor": 2
}
